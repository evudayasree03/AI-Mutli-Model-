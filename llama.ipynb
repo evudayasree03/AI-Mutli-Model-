{
 "cells": [
  {
   "cell_type": "code",
   "execution_count": 1,
   "id": "195986a3",
   "metadata": {},
   "outputs": [
    {
     "name": "stdout",
     "output_type": "stream",
     "text": [
      "^C\n"
     ]
    },
    {
     "name": "stderr",
     "output_type": "stream",
     "text": [
      "WARNING: You are using pip version 20.1.1; however, version 25.0.1 is available.\n",
      "You should consider upgrading via the 'c:\\users\\srikanth\\appdata\\local\\programs\\python\\python38\\python.exe -m pip install --upgrade pip' command.\n"
     ]
    },
    {
     "name": "stdout",
     "output_type": "stream",
     "text": [
      "Collecting streamlit\n",
      "  Downloading streamlit-1.40.1-py2.py3-none-any.whl (8.6 MB)\n",
      "Collecting blinker<2,>=1.0.0\n",
      "  Downloading blinker-1.8.2-py3-none-any.whl (9.5 kB)\n",
      "Collecting rich<14,>=10.14.0\n",
      "  Downloading rich-13.9.4-py3-none-any.whl (242 kB)\n",
      "Requirement already satisfied: pillow<12,>=7.1.0 in c:\\users\\srikanth\\appdata\\local\\programs\\python\\python38\\lib\\site-packages (from streamlit) (10.4.0)\n",
      "Collecting pyarrow>=7.0\n",
      "  Downloading pyarrow-17.0.0-cp38-cp38-win_amd64.whl (25.2 MB)\n",
      "Requirement already satisfied: requests<3,>=2.27 in c:\\users\\srikanth\\appdata\\local\\programs\\python\\python38\\lib\\site-packages (from streamlit) (2.32.4)\n",
      "Collecting tenacity<10,>=8.1.0\n",
      "  Downloading tenacity-9.0.0-py3-none-any.whl (28 kB)\n",
      "Collecting toml<2,>=0.10.1\n",
      "  Downloading toml-0.10.2-py2.py3-none-any.whl (16 kB)\n",
      "Collecting pydeck<1,>=0.8.0b4\n",
      "  Downloading pydeck-0.9.1-py2.py3-none-any.whl (6.9 MB)\n",
      "Requirement already satisfied: numpy<3,>=1.20 in c:\\users\\srikanth\\appdata\\local\\programs\\python\\python38\\lib\\site-packages (from streamlit) (1.21.3)\n",
      "Collecting altair<6,>=4.0\n",
      "  Downloading altair-5.4.1-py3-none-any.whl (658 kB)\n",
      "Requirement already satisfied: cachetools<6,>=4.0 in c:\\users\\srikanth\\appdata\\local\\programs\\python\\python38\\lib\\site-packages (from streamlit) (4.2.4)\n",
      "Collecting protobuf<6,>=3.20\n",
      "  Downloading protobuf-5.29.5-cp38-cp38-win_amd64.whl (434 kB)\n",
      "Requirement already satisfied: pandas<3,>=1.4.0 in c:\\users\\srikanth\\appdata\\local\\programs\\python\\python38\\lib\\site-packages (from streamlit) (1.5.3)\n",
      "Collecting gitpython!=3.1.19,<4,>=3.0.7\n",
      "  Downloading GitPython-3.1.44-py3-none-any.whl (207 kB)\n",
      "Requirement already satisfied: typing-extensions<5,>=4.3.0 in c:\\users\\srikanth\\appdata\\local\\programs\\python\\python38\\lib\\site-packages (from streamlit) (4.13.2)\n",
      "Collecting packaging<25,>=20\n",
      "  Downloading packaging-24.2-py3-none-any.whl (65 kB)\n",
      "Collecting watchdog<7,>=2.1.5; platform_system != \"Darwin\"\n",
      "  Downloading watchdog-4.0.2-py3-none-win_amd64.whl (82 kB)\n",
      "Requirement already satisfied: click<9,>=7.0 in c:\\users\\srikanth\\appdata\\local\\programs\\python\\python38\\lib\\site-packages (from streamlit) (8.1.8)\n",
      "Requirement already satisfied: tornado<7,>=6.0.3 in c:\\users\\srikanth\\appdata\\roaming\\python\\python38\\site-packages (from streamlit) (6.4.2)\n",
      "Collecting markdown-it-py>=2.2.0\n",
      "  Downloading markdown_it_py-3.0.0-py3-none-any.whl (87 kB)\n",
      "Requirement already satisfied: pygments<3.0.0,>=2.13.0 in c:\\users\\srikanth\\appdata\\roaming\\python\\python38\\site-packages (from rich<14,>=10.14.0->streamlit) (2.19.2)\n",
      "Requirement already satisfied: charset_normalizer<4,>=2 in c:\\users\\srikanth\\appdata\\local\\programs\\python\\python38\\lib\\site-packages (from requests<3,>=2.27->streamlit) (3.4.2)\n",
      "Requirement already satisfied: idna<4,>=2.5 in c:\\users\\srikanth\\appdata\\local\\programs\\python\\python38\\lib\\site-packages (from requests<3,>=2.27->streamlit) (3.10)\n",
      "Requirement already satisfied: urllib3<3,>=1.21.1 in c:\\users\\srikanth\\appdata\\local\\programs\\python\\python38\\lib\\site-packages (from requests<3,>=2.27->streamlit) (2.2.3)\n",
      "Requirement already satisfied: certifi>=2017.4.17 in c:\\users\\srikanth\\appdata\\local\\programs\\python\\python38\\lib\\site-packages (from requests<3,>=2.27->streamlit) (2025.7.9)\n",
      "Collecting jinja2>=2.10.1\n",
      "  Downloading jinja2-3.1.6-py3-none-any.whl (134 kB)\n",
      "Collecting narwhals>=1.5.2\n",
      "  Downloading narwhals-1.42.1-py3-none-any.whl (359 kB)\n",
      "Collecting jsonschema>=3.0\n",
      "  Downloading jsonschema-4.23.0-py3-none-any.whl (88 kB)\n",
      "Requirement already satisfied: python-dateutil>=2.8.1 in c:\\users\\srikanth\\appdata\\local\\programs\\python\\python38\\lib\\site-packages (from pandas<3,>=1.4.0->streamlit) (2.9.0.post0)\n",
      "Requirement already satisfied: pytz>=2020.1 in c:\\users\\srikanth\\appdata\\local\\programs\\python\\python38\\lib\\site-packages (from pandas<3,>=1.4.0->streamlit) (2025.2)\n",
      "Collecting gitdb<5,>=4.0.1\n",
      "  Downloading gitdb-4.0.12-py3-none-any.whl (62 kB)\n",
      "Requirement already satisfied: colorama; platform_system == \"Windows\" in c:\\users\\srikanth\\appdata\\local\\programs\\python\\python38\\lib\\site-packages (from click<9,>=7.0->streamlit) (0.4.6)\n",
      "Collecting mdurl~=0.1\n",
      "  Downloading mdurl-0.1.2-py3-none-any.whl (10.0 kB)\n",
      "Requirement already satisfied: MarkupSafe>=2.0 in c:\\users\\srikanth\\appdata\\local\\programs\\python\\python38\\lib\\site-packages (from jinja2>=2.10.1->pydeck<1,>=0.8.0b4->streamlit) (2.1.5)\n",
      "Collecting rpds-py>=0.7.1\n",
      "  Downloading rpds_py-0.20.1-cp38-none-win_amd64.whl (218 kB)\n",
      "Collecting importlib-resources>=1.4.0; python_version < \"3.9\"\n",
      "  Downloading importlib_resources-6.4.5-py3-none-any.whl (36 kB)\n",
      "Collecting pkgutil-resolve-name>=1.3.10; python_version < \"3.9\"\n",
      "  Downloading pkgutil_resolve_name-1.3.10-py3-none-any.whl (4.7 kB)\n",
      "Collecting jsonschema-specifications>=2023.03.6\n",
      "  Downloading jsonschema_specifications-2023.12.1-py3-none-any.whl (18 kB)\n",
      "Collecting referencing>=0.28.4\n",
      "  Downloading referencing-0.35.1-py3-none-any.whl (26 kB)\n",
      "Collecting attrs>=22.2.0\n",
      "  Downloading attrs-25.3.0-py3-none-any.whl (63 kB)\n",
      "Requirement already satisfied: six>=1.5 in c:\\users\\srikanth\\appdata\\local\\programs\\python\\python38\\lib\\site-packages (from python-dateutil>=2.8.1->pandas<3,>=1.4.0->streamlit) (1.17.0)\n",
      "Collecting smmap<6,>=3.0.1\n",
      "  Downloading smmap-5.0.2-py3-none-any.whl (24 kB)\n",
      "Requirement already satisfied: zipp>=3.1.0; python_version < \"3.10\" in c:\\users\\srikanth\\appdata\\local\\programs\\python\\python38\\lib\\site-packages (from importlib-resources>=1.4.0; python_version < \"3.9\"->jsonschema>=3.0->altair<6,>=4.0->streamlit) (3.20.2)\n",
      "Installing collected packages: blinker, mdurl, markdown-it-py, rich, pyarrow, tenacity, toml, jinja2, pydeck, narwhals, rpds-py, importlib-resources, pkgutil-resolve-name, attrs, referencing, jsonschema-specifications, jsonschema, packaging, altair, protobuf, smmap, gitdb, gitpython, watchdog, streamlit\n",
      "  Attempting uninstall: packaging\n",
      "    Found existing installation: packaging 25.0\n",
      "    Uninstalling packaging-25.0:\n",
      "      Successfully uninstalled packaging-25.0\n",
      "  Attempting uninstall: protobuf\n",
      "    Found existing installation: protobuf 3.19.6\n",
      "    Uninstalling protobuf-3.19.6:\n",
      "      Successfully uninstalled protobuf-3.19.6\n",
      "Successfully installed altair-5.4.1 attrs-25.3.0 blinker-1.8.2 gitdb-4.0.12 gitpython-3.1.44 importlib-resources-6.4.5 jinja2-3.1.6 jsonschema-4.23.0 jsonschema-specifications-2023.12.1 markdown-it-py-3.0.0 mdurl-0.1.2 narwhals-1.42.1 packaging-24.2 pkgutil-resolve-name-1.3.10 protobuf-5.29.5 pyarrow-17.0.0 pydeck-0.9.1 referencing-0.35.1 rich-13.9.4 rpds-py-0.20.1 smmap-5.0.2 streamlit-1.40.1 tenacity-9.0.0 toml-0.10.2 watchdog-4.0.2\n"
     ]
    }
   ],
   "source": [
    "!pip install streamlit"
   ]
  },
  {
   "cell_type": "code",
   "execution_count": 2,
   "id": "ce8c4cba",
   "metadata": {},
   "outputs": [],
   "source": [
    "import streamlit as st\n",
    "import pandas as pd\n",
    "import matplotlib.pyplot as plt\n",
    "import ollama"
   ]
  },
  {
   "cell_type": "code",
   "execution_count": 3,
   "id": "7fda0aaa",
   "metadata": {},
   "outputs": [],
   "source": [
    "convo =[]"
   ]
  },
  {
   "cell_type": "code",
   "execution_count": 4,
   "id": "36a026d3",
   "metadata": {},
   "outputs": [
    {
     "name": "stdout",
     "output_type": "stream",
     "text": [
      "Based on the given information, it appears that there is a discrepancy between the total income and total expenses. To help you create a plan to reduce expenses, I'll provide some suggestions:\n",
      "\n",
      "1. **Re-evaluate your expenses**: Review your expenses and identify areas where you can cut back. Consider categorizing your expenses into essential, non-essential, and discretionary categories.\n",
      "2. **Track your expenses**: For one month, track every single transaction to get an accurate picture of where your money is going. This will help you identify areas where you can make changes.\n",
      "3. **Create a budget**: Based on your income and expenses, create a realistic budget that allocates 50-30-20:\n",
      " * 50% for essential expenses (housing, utilities, food, transportation, etc.)\n",
      " * 30% for non-essential expenses (entertainment, hobbies, etc.)\n",
      " * 20% for savings and debt repayment\n",
      "4. **Reduce non-essential expenses**: Identify areas where you can cut back on non-essential expenses, such as:\n",
      " * Dining out or ordering takeout too frequently\n",
      " * Subscription services like streaming platforms or gym memberships that aren't used regularly\n",
      " * Impulse purchases or shopping sprees\n",
      "5. **Negotiate bills and subscriptions**: Review your bills and subscriptions to ensure you're not overpaying. Consider negotiating lower rates with service providers, such as:\n",
      " * Cable or internet providers\n",
      " * Insurance companies\n",
      " * Utility companies\n",
      "6. **Consider a \"50/30/20\" rule for discretionary spending**: Allocate 50% of your income towards essential expenses, 30% towards non-essential expenses, and 20% towards savings and debt repayment.\n",
      "7. **Automate savings**: Set up automatic transfers from your checking account to your savings or investment accounts to ensure you're saving a portion of your income regularly.\n",
      "\n",
      "To help you get started, here's an example of how you can allocate your $10,000 expenses:\n",
      "\n",
      "**Essential Expenses (50%): $5,000**\n",
      "\n",
      "* Housing: $2,500\n",
      "* Utilities: $800\n",
      "* Food: $1,200\n",
      "* Transportation: $800\n",
      "\n",
      "**Non-Essential Expenses (30%): $3,000**\n",
      "\n",
      "* Entertainment: $1,500\n",
      "* Hobbies: $750\n",
      "* Travel: $750\n",
      "* Miscellaneous: $500\n",
      "\n",
      "**Savings and Debt Repayment (20%): $2,000**\n",
      "\n",
      "* Emergency fund: $1,000\n",
      "* Retirement savings: $500\n",
      "* Debt repayment: $500"
     ]
    },
    {
     "data": {
      "text/plain": [
       "'Based on the given information, it appears that there is a discrepancy between the total income and total expenses. To help you create a plan to reduce expenses, I\\'ll provide some suggestions:\\n\\n1. **Re-evaluate your expenses**: Review your expenses and identify areas where you can cut back. Consider categorizing your expenses into essential, non-essential, and discretionary categories.\\n2. **Track your expenses**: For one month, track every single transaction to get an accurate picture of where your money is going. This will help you identify areas where you can make changes.\\n3. **Create a budget**: Based on your income and expenses, create a realistic budget that allocates 50-30-20:\\n * 50% for essential expenses (housing, utilities, food, transportation, etc.)\\n * 30% for non-essential expenses (entertainment, hobbies, etc.)\\n * 20% for savings and debt repayment\\n4. **Reduce non-essential expenses**: Identify areas where you can cut back on non-essential expenses, such as:\\n * Dining out or ordering takeout too frequently\\n * Subscription services like streaming platforms or gym memberships that aren\\'t used regularly\\n * Impulse purchases or shopping sprees\\n5. **Negotiate bills and subscriptions**: Review your bills and subscriptions to ensure you\\'re not overpaying. Consider negotiating lower rates with service providers, such as:\\n * Cable or internet providers\\n * Insurance companies\\n * Utility companies\\n6. **Consider a \"50/30/20\" rule for discretionary spending**: Allocate 50% of your income towards essential expenses, 30% towards non-essential expenses, and 20% towards savings and debt repayment.\\n7. **Automate savings**: Set up automatic transfers from your checking account to your savings or investment accounts to ensure you\\'re saving a portion of your income regularly.\\n\\nTo help you get started, here\\'s an example of how you can allocate your $10,000 expenses:\\n\\n**Essential Expenses (50%): $5,000**\\n\\n* Housing: $2,500\\n* Utilities: $800\\n* Food: $1,200\\n* Transportation: $800\\n\\n**Non-Essential Expenses (30%): $3,000**\\n\\n* Entertainment: $1,500\\n* Hobbies: $750\\n* Travel: $750\\n* Miscellaneous: $500\\n\\n**Savings and Debt Repayment (20%): $2,000**\\n\\n* Emergency fund: $1,000\\n* Retirement savings: $500\\n* Debt repayment: $500'"
      ]
     },
     "execution_count": 4,
     "metadata": {},
     "output_type": "execute_result"
    }
   ],
   "source": [
    "def stream_response(prompt):\n",
    "    convo.append({'role':'user','content': prompt})\n",
    "    response=''\n",
    "    stream=ollama.chat(model='llama3.2',messages=convo,stream=True)\n",
    "    for chunk in stream:\n",
    "        response+= chunk['message']['content']\n",
    "        print(chunk['message']['content'],end='',flush=True)\n",
    "    convo.append({'rloe':'assistant','content':response})\n",
    "    return response\n",
    "\n",
    "prompt='Total income=20000\\nExpenses:10000\\nTotal Expense:14000.Give me plan to reduce expenses'\n",
    "\n",
    "response = stream_response(prompt=prompt)\n",
    "\n",
    "response"
   ]
  },
  {
   "cell_type": "code",
   "execution_count": null,
   "id": "13af3e1e",
   "metadata": {},
   "outputs": [],
   "source": [
    "#Streamlit response\n",
    "\n",
    "st.title(\"Budget Optimization Assisstant\")\n",
    "\n",
    "st.header(\"Enter your Financial Data\")\n",
    "\n",
    "income = st.number_input(\"Total Monthy Income\", min_value=0)\n",
    "entertainment = st.number_input(\"Total Spend on Entertainment\",min_value=0)\n",
    "bills = st.number_input(\"Total Spend on Bills\",min_value=0)\n",
    "food = st.number_input(\"Total Spend on Food\",min_value=0)\n",
    "emi = st.number_input(\"Total Spend on EMI\",min_value=0)\n",
    "\n",
    "if st.button(\"Analyze\"):\n",
    "    expense_dict = {\n",
    "        \n",
    "    }\n"
   ]
  }
 ],
 "metadata": {
  "kernelspec": {
   "display_name": "Python 3",
   "language": "python",
   "name": "python3"
  },
  "language_info": {
   "codemirror_mode": {
    "name": "ipython",
    "version": 3
   },
   "file_extension": ".py",
   "mimetype": "text/x-python",
   "name": "python",
   "nbconvert_exporter": "python",
   "pygments_lexer": "ipython3",
   "version": "3.8.5"
  }
 },
 "nbformat": 4,
 "nbformat_minor": 5
}
